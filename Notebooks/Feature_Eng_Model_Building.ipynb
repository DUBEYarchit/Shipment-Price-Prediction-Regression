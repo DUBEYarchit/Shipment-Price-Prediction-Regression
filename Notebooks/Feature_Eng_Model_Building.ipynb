{
 "cells": [
  {
   "cell_type": "markdown",
   "id": "c00644b7-d779-4c2c-b334-faccd897baee",
   "metadata": {},
   "source": [
    "## Data Pre-processing"
   ]
  },
  {
   "cell_type": "code",
   "execution_count": 1,
   "id": "0bde8d00-79a8-48f4-ae25-92958997aa83",
   "metadata": {},
   "outputs": [],
   "source": [
    "import pandas as pd\n",
    "import matplotlib.pyplot as plt\n",
    "import seaborn as sns\n",
    "import numpy as np\n",
    "\n",
    "import warnings\n",
    "warnings.filterwarnings(\"ignore\")\n",
    "pd.pandas.set_option(\"display.max_columns\", None)"
   ]
  },
  {
   "cell_type": "code",
   "execution_count": 2,
   "id": "fe28ecc3-ad2a-4c70-9493-caac4bd265f6",
   "metadata": {},
   "outputs": [
    {
     "data": {
      "text/html": [
       "<div>\n",
       "<style scoped>\n",
       "    .dataframe tbody tr th:only-of-type {\n",
       "        vertical-align: middle;\n",
       "    }\n",
       "\n",
       "    .dataframe tbody tr th {\n",
       "        vertical-align: top;\n",
       "    }\n",
       "\n",
       "    .dataframe thead th {\n",
       "        text-align: right;\n",
       "    }\n",
       "</style>\n",
       "<table border=\"1\" class=\"dataframe\">\n",
       "  <thead>\n",
       "    <tr style=\"text-align: right;\">\n",
       "      <th></th>\n",
       "      <th>Customer Id</th>\n",
       "      <th>Artist Name</th>\n",
       "      <th>Artist Reputation</th>\n",
       "      <th>Height</th>\n",
       "      <th>Width</th>\n",
       "      <th>Weight</th>\n",
       "      <th>Material</th>\n",
       "      <th>Price Of Sculpture</th>\n",
       "      <th>Base Shipping Price</th>\n",
       "      <th>International</th>\n",
       "      <th>Express Shipment</th>\n",
       "      <th>Installation Included</th>\n",
       "      <th>Transport</th>\n",
       "      <th>Fragile</th>\n",
       "      <th>Customer Information</th>\n",
       "      <th>Remote Location</th>\n",
       "      <th>Scheduled Date</th>\n",
       "      <th>Delivery Date</th>\n",
       "      <th>Customer Location</th>\n",
       "      <th>Cost</th>\n",
       "    </tr>\n",
       "  </thead>\n",
       "  <tbody>\n",
       "    <tr>\n",
       "      <th>0</th>\n",
       "      <td>fffe3900350033003300</td>\n",
       "      <td>Billy Jenkins</td>\n",
       "      <td>0.26</td>\n",
       "      <td>17.0</td>\n",
       "      <td>6.0</td>\n",
       "      <td>4128.0</td>\n",
       "      <td>Brass</td>\n",
       "      <td>13.91</td>\n",
       "      <td>16.27</td>\n",
       "      <td>Yes</td>\n",
       "      <td>Yes</td>\n",
       "      <td>No</td>\n",
       "      <td>Airways</td>\n",
       "      <td>No</td>\n",
       "      <td>Working Class</td>\n",
       "      <td>No</td>\n",
       "      <td>06/07/15</td>\n",
       "      <td>06/03/15</td>\n",
       "      <td>New Michelle, OH 50777</td>\n",
       "      <td>-283.29</td>\n",
       "    </tr>\n",
       "    <tr>\n",
       "      <th>1</th>\n",
       "      <td>fffe3800330031003900</td>\n",
       "      <td>Jean Bryant</td>\n",
       "      <td>0.28</td>\n",
       "      <td>3.0</td>\n",
       "      <td>3.0</td>\n",
       "      <td>61.0</td>\n",
       "      <td>Brass</td>\n",
       "      <td>6.83</td>\n",
       "      <td>15.00</td>\n",
       "      <td>No</td>\n",
       "      <td>No</td>\n",
       "      <td>No</td>\n",
       "      <td>Roadways</td>\n",
       "      <td>No</td>\n",
       "      <td>Working Class</td>\n",
       "      <td>No</td>\n",
       "      <td>03/06/17</td>\n",
       "      <td>03/05/17</td>\n",
       "      <td>New Michaelport, WY 12072</td>\n",
       "      <td>-159.96</td>\n",
       "    </tr>\n",
       "    <tr>\n",
       "      <th>2</th>\n",
       "      <td>fffe3600370035003100</td>\n",
       "      <td>Laura Miller</td>\n",
       "      <td>0.07</td>\n",
       "      <td>8.0</td>\n",
       "      <td>5.0</td>\n",
       "      <td>237.0</td>\n",
       "      <td>Clay</td>\n",
       "      <td>4.96</td>\n",
       "      <td>21.18</td>\n",
       "      <td>No</td>\n",
       "      <td>No</td>\n",
       "      <td>No</td>\n",
       "      <td>Roadways</td>\n",
       "      <td>Yes</td>\n",
       "      <td>Working Class</td>\n",
       "      <td>Yes</td>\n",
       "      <td>03/09/15</td>\n",
       "      <td>03/08/15</td>\n",
       "      <td>Bowmanshire, WA 19241</td>\n",
       "      <td>-154.29</td>\n",
       "    </tr>\n",
       "    <tr>\n",
       "      <th>3</th>\n",
       "      <td>fffe350031003300</td>\n",
       "      <td>Robert Chaires</td>\n",
       "      <td>0.12</td>\n",
       "      <td>9.0</td>\n",
       "      <td>NaN</td>\n",
       "      <td>NaN</td>\n",
       "      <td>Aluminium</td>\n",
       "      <td>5.81</td>\n",
       "      <td>16.31</td>\n",
       "      <td>No</td>\n",
       "      <td>No</td>\n",
       "      <td>No</td>\n",
       "      <td>NaN</td>\n",
       "      <td>No</td>\n",
       "      <td>Wealthy</td>\n",
       "      <td>Yes</td>\n",
       "      <td>05/24/15</td>\n",
       "      <td>05/20/15</td>\n",
       "      <td>East Robyn, KY 86375</td>\n",
       "      <td>-161.16</td>\n",
       "    </tr>\n",
       "    <tr>\n",
       "      <th>4</th>\n",
       "      <td>fffe3900320038003400</td>\n",
       "      <td>Rosalyn Krol</td>\n",
       "      <td>0.15</td>\n",
       "      <td>17.0</td>\n",
       "      <td>6.0</td>\n",
       "      <td>324.0</td>\n",
       "      <td>Aluminium</td>\n",
       "      <td>3.18</td>\n",
       "      <td>11.94</td>\n",
       "      <td>Yes</td>\n",
       "      <td>Yes</td>\n",
       "      <td>Yes</td>\n",
       "      <td>Airways</td>\n",
       "      <td>No</td>\n",
       "      <td>Working Class</td>\n",
       "      <td>No</td>\n",
       "      <td>12/18/16</td>\n",
       "      <td>12/14/16</td>\n",
       "      <td>Aprilside, PA 52793</td>\n",
       "      <td>-159.23</td>\n",
       "    </tr>\n",
       "    <tr>\n",
       "      <th>5</th>\n",
       "      <td>fffe3300390039003900</td>\n",
       "      <td>Tracy Francis</td>\n",
       "      <td>0.99</td>\n",
       "      <td>46.0</td>\n",
       "      <td>19.0</td>\n",
       "      <td>1178.0</td>\n",
       "      <td>Wood</td>\n",
       "      <td>6.16</td>\n",
       "      <td>16.88</td>\n",
       "      <td>No</td>\n",
       "      <td>Yes</td>\n",
       "      <td>No</td>\n",
       "      <td>NaN</td>\n",
       "      <td>No</td>\n",
       "      <td>Wealthy</td>\n",
       "      <td>No</td>\n",
       "      <td>08/28/15</td>\n",
       "      <td>08/26/15</td>\n",
       "      <td>Maddenberg, AL 43096</td>\n",
       "      <td>-1922.78</td>\n",
       "    </tr>\n",
       "    <tr>\n",
       "      <th>6</th>\n",
       "      <td>fffe3800360033003700</td>\n",
       "      <td>David Hawes</td>\n",
       "      <td>0.64</td>\n",
       "      <td>17.0</td>\n",
       "      <td>9.0</td>\n",
       "      <td>7264.0</td>\n",
       "      <td>Brass</td>\n",
       "      <td>8.26</td>\n",
       "      <td>90.67</td>\n",
       "      <td>No</td>\n",
       "      <td>Yes</td>\n",
       "      <td>No</td>\n",
       "      <td>Roadways</td>\n",
       "      <td>No</td>\n",
       "      <td>Working Class</td>\n",
       "      <td>No</td>\n",
       "      <td>06/05/16</td>\n",
       "      <td>06/02/16</td>\n",
       "      <td>South Matthew, WV 76033</td>\n",
       "      <td>-1536.66</td>\n",
       "    </tr>\n",
       "    <tr>\n",
       "      <th>7</th>\n",
       "      <td>fffe3800300039003800</td>\n",
       "      <td>David Osher</td>\n",
       "      <td>0.74</td>\n",
       "      <td>23.0</td>\n",
       "      <td>10.0</td>\n",
       "      <td>3287.0</td>\n",
       "      <td>Clay</td>\n",
       "      <td>12.81</td>\n",
       "      <td>13.25</td>\n",
       "      <td>Yes</td>\n",
       "      <td>No</td>\n",
       "      <td>No</td>\n",
       "      <td>Waterways</td>\n",
       "      <td>Yes</td>\n",
       "      <td>Wealthy</td>\n",
       "      <td>No</td>\n",
       "      <td>06/04/19</td>\n",
       "      <td>05/31/19</td>\n",
       "      <td>Davidmouth, CA 37824</td>\n",
       "      <td>-422.42</td>\n",
       "    </tr>\n",
       "    <tr>\n",
       "      <th>8</th>\n",
       "      <td>fffe3800330032003900</td>\n",
       "      <td>Arnold Reel</td>\n",
       "      <td>0.00</td>\n",
       "      <td>6.0</td>\n",
       "      <td>4.0</td>\n",
       "      <td>108.0</td>\n",
       "      <td>Clay</td>\n",
       "      <td>3.98</td>\n",
       "      <td>19.76</td>\n",
       "      <td>Yes</td>\n",
       "      <td>No</td>\n",
       "      <td>No</td>\n",
       "      <td>Waterways</td>\n",
       "      <td>Yes</td>\n",
       "      <td>Working Class</td>\n",
       "      <td>Yes</td>\n",
       "      <td>08/27/18</td>\n",
       "      <td>08/23/18</td>\n",
       "      <td>Lisaville, ND 43925</td>\n",
       "      <td>-160.10</td>\n",
       "    </tr>\n",
       "    <tr>\n",
       "      <th>9</th>\n",
       "      <td>fffe3800310031003800</td>\n",
       "      <td>James Comfort</td>\n",
       "      <td>0.12</td>\n",
       "      <td>23.0</td>\n",
       "      <td>9.0</td>\n",
       "      <td>195226.0</td>\n",
       "      <td>Marble</td>\n",
       "      <td>245.63</td>\n",
       "      <td>49.25</td>\n",
       "      <td>No</td>\n",
       "      <td>No</td>\n",
       "      <td>No</td>\n",
       "      <td>Roadways</td>\n",
       "      <td>No</td>\n",
       "      <td>Working Class</td>\n",
       "      <td>No</td>\n",
       "      <td>07/14/16</td>\n",
       "      <td>07/10/16</td>\n",
       "      <td>Jacobland, WV 85997</td>\n",
       "      <td>-834.27</td>\n",
       "    </tr>\n",
       "  </tbody>\n",
       "</table>\n",
       "</div>"
      ],
      "text/plain": [
       "            Customer Id     Artist Name  Artist Reputation  Height  Width  \\\n",
       "0  fffe3900350033003300   Billy Jenkins               0.26    17.0    6.0   \n",
       "1  fffe3800330031003900     Jean Bryant               0.28     3.0    3.0   \n",
       "2  fffe3600370035003100    Laura Miller               0.07     8.0    5.0   \n",
       "3      fffe350031003300  Robert Chaires               0.12     9.0    NaN   \n",
       "4  fffe3900320038003400    Rosalyn Krol               0.15    17.0    6.0   \n",
       "5  fffe3300390039003900   Tracy Francis               0.99    46.0   19.0   \n",
       "6  fffe3800360033003700     David Hawes               0.64    17.0    9.0   \n",
       "7  fffe3800300039003800     David Osher               0.74    23.0   10.0   \n",
       "8  fffe3800330032003900     Arnold Reel               0.00     6.0    4.0   \n",
       "9  fffe3800310031003800   James Comfort               0.12    23.0    9.0   \n",
       "\n",
       "     Weight   Material  Price Of Sculpture  Base Shipping Price International  \\\n",
       "0    4128.0      Brass               13.91                16.27           Yes   \n",
       "1      61.0      Brass                6.83                15.00            No   \n",
       "2     237.0       Clay                4.96                21.18            No   \n",
       "3       NaN  Aluminium                5.81                16.31            No   \n",
       "4     324.0  Aluminium                3.18                11.94           Yes   \n",
       "5    1178.0       Wood                6.16                16.88            No   \n",
       "6    7264.0      Brass                8.26                90.67            No   \n",
       "7    3287.0       Clay               12.81                13.25           Yes   \n",
       "8     108.0       Clay                3.98                19.76           Yes   \n",
       "9  195226.0     Marble              245.63                49.25            No   \n",
       "\n",
       "  Express Shipment Installation Included  Transport Fragile  \\\n",
       "0              Yes                    No    Airways      No   \n",
       "1               No                    No   Roadways      No   \n",
       "2               No                    No   Roadways     Yes   \n",
       "3               No                    No        NaN      No   \n",
       "4              Yes                   Yes    Airways      No   \n",
       "5              Yes                    No        NaN      No   \n",
       "6              Yes                    No   Roadways      No   \n",
       "7               No                    No  Waterways     Yes   \n",
       "8               No                    No  Waterways     Yes   \n",
       "9               No                    No   Roadways      No   \n",
       "\n",
       "  Customer Information Remote Location Scheduled Date Delivery Date  \\\n",
       "0        Working Class              No       06/07/15      06/03/15   \n",
       "1        Working Class              No       03/06/17      03/05/17   \n",
       "2        Working Class             Yes       03/09/15      03/08/15   \n",
       "3              Wealthy             Yes       05/24/15      05/20/15   \n",
       "4        Working Class              No       12/18/16      12/14/16   \n",
       "5              Wealthy              No       08/28/15      08/26/15   \n",
       "6        Working Class              No       06/05/16      06/02/16   \n",
       "7              Wealthy              No       06/04/19      05/31/19   \n",
       "8        Working Class             Yes       08/27/18      08/23/18   \n",
       "9        Working Class              No       07/14/16      07/10/16   \n",
       "\n",
       "           Customer Location     Cost  \n",
       "0     New Michelle, OH 50777  -283.29  \n",
       "1  New Michaelport, WY 12072  -159.96  \n",
       "2      Bowmanshire, WA 19241  -154.29  \n",
       "3       East Robyn, KY 86375  -161.16  \n",
       "4        Aprilside, PA 52793  -159.23  \n",
       "5       Maddenberg, AL 43096 -1922.78  \n",
       "6    South Matthew, WV 76033 -1536.66  \n",
       "7       Davidmouth, CA 37824  -422.42  \n",
       "8        Lisaville, ND 43925  -160.10  \n",
       "9        Jacobland, WV 85997  -834.27  "
      ]
     },
     "execution_count": 2,
     "metadata": {},
     "output_type": "execute_result"
    }
   ],
   "source": [
    "df = pd.read_csv('train.csv')\n",
    "df.head(10)"
   ]
  },
  {
   "cell_type": "markdown",
   "id": "03dc8344-0ad0-466f-82e5-ebaa0077103d",
   "metadata": {},
   "source": [
    "## Data Cleaning "
   ]
  },
  {
   "cell_type": "markdown",
   "id": "44b08d8a-e94a-480c-9708-74224b21aecf",
   "metadata": {},
   "source": [
    "### Null Values "
   ]
  },
  {
   "cell_type": "code",
   "execution_count": 3,
   "id": "0d66596b-fe50-4aa3-adf8-772e327bf29d",
   "metadata": {},
   "outputs": [
    {
     "name": "stdout",
     "output_type": "stream",
     "text": [
      "Artist Reputation 11.53846 % missing values\n",
      "Height 5.76923 % missing values\n",
      "Width 8.98462 % missing values\n",
      "Weight 9.03077 % missing values\n",
      "Material 11.75385 % missing values\n",
      "Transport 21.41538 % missing values\n",
      "Remote Location 11.86154 % missing values\n"
     ]
    }
   ],
   "source": [
    "# features with nan i.e., Null values \n",
    "# printing their percentage of null values\n",
    "\n",
    "features_with_na = [features for features in df.columns if df[features].isnull().sum()>=1]\n",
    "\n",
    "for feature in features_with_na:\n",
    "    print(feature, np.round(df[feature].isnull().mean()*100,5),\"% missing values\")"
   ]
  },
  {
   "cell_type": "markdown",
   "id": "71292b87-c783-4897-9c36-0df7017cd697",
   "metadata": {},
   "source": [
    "### Separating Features"
   ]
  },
  {
   "cell_type": "code",
   "execution_count": 4,
   "id": "e9164521-2869-4b3d-9be4-c087dc4b7815",
   "metadata": {},
   "outputs": [
    {
     "name": "stdout",
     "output_type": "stream",
     "text": [
      "We have 6 many numerical comulms namely ['Artist Reputation', 'Height', 'Width', 'Weight', 'Price Of Sculpture', 'Base Shipping Price']\n",
      "We have 13 many categorical comulms namely ['Customer Id', 'Artist Name', 'Material', 'International', 'Express Shipment', 'Installation Included', 'Transport', 'Fragile', 'Customer Information', 'Remote Location', 'Scheduled Date', 'Delivery Date', 'Customer Location']\n"
     ]
    }
   ],
   "source": [
    "target_feature = 'Cost'\n",
    "\n",
    "# storing numerical and categorical features in a List\n",
    "\n",
    "numerical_features = [feature for feature in df.columns if df[feature].dtype != 'O' ]\n",
    "numerical_features.remove(target_feature)\n",
    "\n",
    "categorical_features = [feature for feature in df.columns if df[feature].dtype == 'O']\n",
    "\n",
    "\n",
    "print('We have {} many numerical comulms namely {}'.format((len(numerical_features)),(numerical_features)))\n",
    "print('We have {} many categorical comulms namely {}'.format((len(categorical_features)),(categorical_features)))"
   ]
  },
  {
   "cell_type": "code",
   "execution_count": 5,
   "id": "b185f7ce-413c-4809-b24e-4049fccb50f7",
   "metadata": {},
   "outputs": [],
   "source": [
    "## Making the copy of original Dataframe df to a new dataframe \n",
    "## to make changes in the new dataframe to check for multicollinearity \n",
    "\n",
    "df1 = df.copy()\n",
    "\n",
    "for i in numerical_features:\n",
    "    df1[i].fillna(df1[i].median(),inplace=True)"
   ]
  },
  {
   "cell_type": "code",
   "execution_count": 6,
   "id": "e0357356-4b1c-4212-aad8-9779b2403a38",
   "metadata": {},
   "outputs": [
    {
     "name": "stdout",
     "output_type": "stream",
     "text": [
      "Variance Inflation Factor of Artist Reputation column is 1.01 \n",
      "\n",
      "Variance Inflation Factor of Height column is 1.01 \n",
      "\n",
      "Variance Inflation Factor of Width column is 1.02 \n",
      "\n",
      "Variance Inflation Factor of Weight column is 1.2 \n",
      "\n",
      "Variance Inflation Factor of Price Of Sculpture column is 1.3 \n",
      "\n",
      "Variance Inflation Factor of Base Shipping Price column is 1.01 \n",
      "\n"
     ]
    }
   ],
   "source": [
    "import statsmodels.api as sm\n",
    "\n",
    "for i in range(0, len(numerical_features)):\n",
    "    x = df1.loc[:, df1.columns == numerical_features[i]]\n",
    "    y = df1.Cost\n",
    "    model = sm.OLS(x,y)\n",
    "    results = model.fit()\n",
    "    rsq = results.rsquared\n",
    "    vif = round(1 / (1 - rsq), 2)\n",
    "    print(\n",
    "        \"Variance Inflation Factor of {} column is {} \\n\".format(\n",
    "            numerical_features[i], vif)\n",
    "        )\n"
   ]
  },
  {
   "cell_type": "markdown",
   "id": "07df3241-84bd-4a9a-957c-a80817580ea3",
   "metadata": {},
   "source": [
    "VIF is around 1 so there is not much Multicollinearity."
   ]
  },
  {
   "cell_type": "code",
   "execution_count": 7,
   "id": "c4727b7a-e67a-4eaf-90b6-b61f73ce19d7",
   "metadata": {},
   "outputs": [
    {
     "data": {
      "image/png": "[encoded data removed]",
      "text/plain": [
       "<Figure size 1500x1500 with 6 Axes>"
      ]
     },
     "metadata": {},
     "output_type": "display_data"
    }
   ],
   "source": [
    "plt.figure(figsize=(15, 15))\n",
    "plt.suptitle('Data Distribution for Numerical Features', fontsize=20, fontweight='bold', alpha=0.8, y=1.)\n",
    "\n",
    "for i in range(0, len(numerical_features)):\n",
    "    plt.subplot(5, 2, i+1)\n",
    "    sns.kdeplot(x=df[numerical_features[i]],shade=True, color='y')\n",
    "    plt.xlabel(numerical_features[i])\n",
    "    plt.tight_layout()"
   ]
  },
  {
   "cell_type": "code",
   "execution_count": 8,
   "id": "856bb5d9-294c-49df-8612-d1d562ff5e9b",
   "metadata": {},
   "outputs": [
    {
     "data": {
      "text/plain": [
       "Artist Reputation       0.141363\n",
       "Height                  0.594041\n",
       "Width                   1.546702\n",
       "Weight                 21.556174\n",
       "Price Of Sculpture     22.206823\n",
       "Base Shipping Price     0.918102\n",
       "dtype: float64"
      ]
     },
     "execution_count": 8,
     "metadata": {},
     "output_type": "execute_result"
    }
   ],
   "source": [
    "df[numerical_features].skew()"
   ]
  },
  {
   "cell_type": "markdown",
   "id": "c5800fc4-89f6-41e9-a1d6-777aa14ce894",
   "metadata": {},
   "source": [
    "Price Of Sculpture and Weight are extremely skewed on the positive side because of outliers.\n",
    "\n",
    "\n",
    "power transformer or Log transformer can be used to handle this.\n",
    "\n",
    "\n",
    "Width and Base Shipping Price are not much skewed."
   ]
  },
  {
   "cell_type": "markdown",
   "id": "4212a42b-b632-4fb6-8156-f20eb43e4e90",
   "metadata": {},
   "source": [
    "Checking for power transformer on Outlier columns"
   ]
  },
  {
   "cell_type": "code",
   "execution_count": 9,
   "id": "b38a33d0-d701-4b7d-adfc-a254ec262193",
   "metadata": {},
   "outputs": [],
   "source": [
    "outlier_feature = ['Price Of Sculpture', 'Weight']"
   ]
  },
  {
   "cell_type": "code",
   "execution_count": 10,
   "id": "cc437291-4b50-4e2c-a45f-0695a4b32408",
   "metadata": {},
   "outputs": [],
   "source": [
    "from sklearn.preprocessing import PowerTransformer\n",
    "pt = PowerTransformer(standardize=False)\n",
    "\n",
    "outlier_data = df1[outlier_feature]"
   ]
  },
  {
   "cell_type": "code",
   "execution_count": 11,
   "id": "59cc03b1-0f8d-41d3-b12c-73d2df6de4cf",
   "metadata": {},
   "outputs": [],
   "source": [
    "df1[outlier_feature] = pt.fit_transform(df1[outlier_feature])"
   ]
  },
  {
   "cell_type": "code",
   "execution_count": 12,
   "id": "07b9347b-17c6-4b15-9662-6e212b86cbac",
   "metadata": {},
   "outputs": [],
   "source": [
    "df_outlier = pd.DataFrame(outlier_data, columns=outlier_feature)"
   ]
  },
  {
   "cell_type": "code",
   "execution_count": 13,
   "id": "213cc80a-8006-4a10-bd14-83db42013106",
   "metadata": {},
   "outputs": [
    {
     "data": {
      "image/png": "[encoded data removed]",
      "text/plain": [
       "<Figure size 1500x1500 with 2 Axes>"
      ]
     },
     "metadata": {},
     "output_type": "display_data"
    }
   ],
   "source": [
    "plt.figure(figsize=(15, 15))\n",
    "plt.suptitle('Data Distribution for Numerical Features', fontsize=20, fontweight='bold', alpha=0.8, y=1.)\n",
    "\n",
    "for i in range(0, len(outlier_feature)):\n",
    "    plt.subplot(5, 3, i+1)\n",
    "    sns.histplot(x=df1[outlier_feature[i]], color='b')\n",
    "    plt.xlabel(outlier_feature[i])\n",
    "    plt.tight_layout()\n"
   ]
  },
  {
   "cell_type": "code",
   "execution_count": 14,
   "id": "bebe762e-0b05-4cbe-bf1e-f42a830137c7",
   "metadata": {},
   "outputs": [
    {
     "data": {
      "text/plain": [
       "Price Of Sculpture    0.478648\n",
       "Weight                0.027309\n",
       "dtype: float64"
      ]
     },
     "execution_count": 14,
     "metadata": {},
     "output_type": "execute_result"
    }
   ],
   "source": [
    "df1[outlier_feature].skew()"
   ]
  },
  {
   "cell_type": "markdown",
   "id": "d309e76f-f445-42f0-ac2b-86254aa491ff",
   "metadata": {},
   "source": [
    "Removing Outlier from target column "
   ]
  },
  {
   "cell_type": "code",
   "execution_count": 15,
   "id": "f48c5889-d686-45f9-a949-d26e023b32e3",
   "metadata": {},
   "outputs": [
    {
     "data": {
      "image/png": "[encoded data removed]",
      "text/plain": [
       "<Figure size 1400x700 with 1 Axes>"
      ]
     },
     "metadata": {},
     "output_type": "display_data"
    }
   ],
   "source": [
    "plt.subplots(figsize=(14,7))\n",
    "sns.histplot(df['Cost'], bins=200, kde=True, color = 'm')\n",
    "plt.title(\"Cost Distribution\", weight=\"bold\",fontsize=20, pad=20)\n",
    "plt.ylabel(\"Count\", weight=\"bold\", fontsize=12)\n",
    "plt.xlabel(\"Cost price in millions\", weight=\"bold\", fontsize=12)\n",
    "plt.show()"
   ]
  },
  {
   "cell_type": "markdown",
   "id": "76b280f8-8f3f-4880-9e4e-273a787d0b8a",
   "metadata": {},
   "source": [
    "Need to apply transformation to target column to make it normally distributed. we use 1p to avoid `inf` values arise dued to `0` in the target column"
   ]
  },
  {
   "cell_type": "code",
   "execution_count": 16,
   "id": "e146810c-e356-4fbf-952b-581cc0e9ec15",
   "metadata": {},
   "outputs": [],
   "source": [
    "df1['Cost'] = np.log1p(df1['Cost'])"
   ]
  },
  {
   "cell_type": "code",
   "execution_count": 17,
   "id": "b9169440-9d8b-4f31-873a-0437e7590bc1",
   "metadata": {},
   "outputs": [
    {
     "data": {
      "text/plain": [
       "(array([1973., 1985.,  954.,  461.,  223.,  127.,   64.,   32.,   16.,\n",
       "           6.]),\n",
       " array([ 4.46671239,  5.64267721,  6.81864203,  7.99460685,  9.17057167,\n",
       "        10.34653649, 11.5225013 , 12.69846612, 13.87443094, 15.05039576,\n",
       "        16.22636058]),\n",
       " <BarContainer object of 10 artists>)"
      ]
     },
     "execution_count": 17,
     "metadata": {},
     "output_type": "execute_result"
    },
    {
     "data": {
      "image/png": "[encoded data removed]",
      "text/plain": [
       "<Figure size 640x480 with 1 Axes>"
      ]
     },
     "metadata": {},
     "output_type": "display_data"
    }
   ],
   "source": [
    "plt.hist(df1['Cost'])"
   ]
  },
  {
   "cell_type": "markdown",
   "id": "b0a24188-dffd-49ea-a7ba-d8ccc7fb3f3a",
   "metadata": {},
   "source": [
    "Data looks good after the log transformation but not Normally distributed."
   ]
  },
  {
   "cell_type": "markdown",
   "id": "0e5eba94-cc8e-4199-9198-3e3b9adbb5fc",
   "metadata": {},
   "source": [
    "### Feature creation for Date columns"
   ]
  },
  {
   "cell_type": "code",
   "execution_count": 18,
   "id": "f115f8aa-7686-44eb-8e4a-a350e188a9ab",
   "metadata": {},
   "outputs": [],
   "source": [
    "# Convert object datatype to datetime\n",
    "df['Scheduled Date'] = pd.to_datetime(df['Scheduled Date'])\n",
    "df['Delivery Date'] = pd.to_datetime(df['Delivery Date'])"
   ]
  },
  {
   "cell_type": "code",
   "execution_count": 19,
   "id": "a5b513fd-fa07-401f-bd04-487050ef0ceb",
   "metadata": {},
   "outputs": [],
   "source": [
    "df['Month'] = pd.to_datetime(df['Scheduled Date']).dt.month\n",
    "df['Year'] = pd.to_datetime(df['Scheduled Date']).dt.year\n",
    "\n",
    "numerical_features.append('Month')\n",
    "numerical_features.append('Year')"
   ]
  },
  {
   "cell_type": "markdown",
   "id": "8428404b-fc9c-46aa-97bd-16d5f9714b7d",
   "metadata": {},
   "source": [
    "### Drop unnecessary columns"
   ]
  },
  {
   "cell_type": "markdown",
   "id": "b7d0374e-7b14-44d2-956a-7bbf90e956a6",
   "metadata": {},
   "source": [
    "Drop `Customer Id`, `Artist Name` and `Customer Location` columns having huge number of unique values.\n",
    "\n",
    "`Scheduled Date` and `Delivery Date` can be dropped since the required features are extracted form it"
   ]
  },
  {
   "cell_type": "code",
   "execution_count": 20,
   "id": "39720a11-9742-40af-810f-4e8c227a4d13",
   "metadata": {},
   "outputs": [],
   "source": [
    "to_drop_columns = ['Customer Id', 'Artist Name', 'Customer Location', 'Scheduled Date', 'Delivery Date']"
   ]
  },
  {
   "cell_type": "code",
   "execution_count": 21,
   "id": "4a733b0d-0005-428c-a0aa-be6537b2f8e8",
   "metadata": {},
   "outputs": [],
   "source": [
    "df.drop(columns=to_drop_columns, inplace=True)"
   ]
  },
  {
   "cell_type": "markdown",
   "id": "0fbe51b7-31a5-4493-abc5-389877c4bf5d",
   "metadata": {},
   "source": [
    "## Model Building"
   ]
  },
  {
   "cell_type": "code",
   "execution_count": 22,
   "id": "2451354f-09c6-446a-a1ac-380d27239cc5",
   "metadata": {},
   "outputs": [],
   "source": [
    "from sklearn.preprocessing import OneHotEncoder, StandardScaler, PowerTransformer, LabelEncoder, OrdinalEncoder, RobustScaler\n",
    "from sklearn.compose import ColumnTransformer\n",
    "from sklearn.pipeline import Pipeline\n",
    "from sklearn.impute import SimpleImputer\n",
    "from sklearn.metrics import mean_squared_error, r2_score\n",
    "from sklearn.neighbors import KNeighborsRegressor\n",
    "from sklearn.tree import DecisionTreeRegressor\n",
    "from sklearn.ensemble import RandomForestRegressor,AdaBoostRegressor\n",
    "from sklearn.svm import SVR\n",
    "from sklearn.linear_model import LinearRegression, Ridge,Lasso\n",
    "from sklearn.metrics import r2_score, mean_absolute_error, mean_squared_error\n",
    "from sklearn.model_selection import RandomizedSearchCV, train_test_split, GridSearchCV\n",
    "from catboost import CatBoostRegressor\n",
    "from xgboost import XGBRegressor\n",
    "from sklearn.svm import SVR"
   ]
  },
  {
   "cell_type": "markdown",
   "id": "29585513-ec70-4710-bd33-4edddeea0ad9",
   "metadata": {},
   "source": [
    "Splitting between X and y (Target Column)"
   ]
  },
  {
   "cell_type": "code",
   "execution_count": 23,
   "id": "f99d6c3b-b20b-4da1-9597-2ab06698f006",
   "metadata": {},
   "outputs": [],
   "source": [
    "X = df.drop(columns = ['Cost'], axis = 1)\n",
    "\n",
    "y = np.abs(df['Cost'])"
   ]
  },
  {
   "cell_type": "code",
   "execution_count": 24,
   "id": "fe3d8692-de50-4f5a-8d9e-bfe06cb3e56b",
   "metadata": {},
   "outputs": [],
   "source": [
    "y = np.log1p(y)"
   ]
  },
  {
   "cell_type": "code",
   "execution_count": 25,
   "id": "fc3781a6-05ae-4934-845d-3008e87a1d3e",
   "metadata": {},
   "outputs": [],
   "source": [
    "X_train, X_test, y_train, y_test = train_test_split(X, y, test_size=0.2, random_state=42)"
   ]
  },
  {
   "cell_type": "markdown",
   "id": "21b82601-1068-4267-a7d1-fa024e0f4d9f",
   "metadata": {},
   "source": [
    "## Feature Encoding and Scaling"
   ]
  },
  {
   "cell_type": "markdown",
   "id": "372f049d-cd7c-4dde-8133-d5a97d736be1",
   "metadata": {},
   "source": [
    "**Selecting Numerical and categorical features for feature scaling**"
   ]
  },
  {
   "cell_type": "code",
   "execution_count": 29,
   "id": "2d8aed1f-2dc4-40ed-94d2-a5dac7ec94cd",
   "metadata": {},
   "outputs": [
    {
     "data": {
      "text/plain": [
       "(['Artist Reputation',\n",
       "  'Height',\n",
       "  'Width',\n",
       "  'Base Shipping Price',\n",
       "  'Month',\n",
       "  'Year'],\n",
       " ['Material',\n",
       "  'International',\n",
       "  'Express Shipment',\n",
       "  'Installation Included',\n",
       "  'Transport',\n",
       "  'Fragile',\n",
       "  'Customer Information',\n",
       "  'Remote Location'],\n",
       " ['Price Of Sculpture', 'Weight'])"
      ]
     },
     "execution_count": 29,
     "metadata": {},
     "output_type": "execute_result"
    }
   ],
   "source": [
    "numeric_features = [x for x in numerical_features if x not in outlier_feature]\n",
    "categoric_features = [x for x in categorical_features if x not in to_drop_columns]\n",
    "\n",
    "(numeric_features), (categoric_features), (outlier_feature)"
   ]
  },
  {
   "cell_type": "code",
   "execution_count": 30,
   "id": "9f6fed78-bb26-4945-b0bf-dedbf1c0af3d",
   "metadata": {},
   "outputs": [],
   "source": [
    "numeric_features_pipeline = Pipeline(steps=[\n",
    "    ('imputer', SimpleImputer(strategy='mean')),\n",
    "    ('scaler', RobustScaler())\n",
    "])\n",
    "\n",
    "categorical_features_pipeline = Pipeline(steps=[\n",
    "    ('imputer', SimpleImputer(strategy='most_frequent')),\n",
    "    ('one_hot_encoder', OneHotEncoder()),\n",
    "]\n",
    ")\n",
    "\n",
    "outliers_features_pipeline = Pipeline(steps=[\n",
    "    ('imputer', SimpleImputer(strategy='median')),\n",
    "    ('transformer', PowerTransformer(standardize=True))\n",
    "])\n",
    "\n",
    "preprocessor = ColumnTransformer(\n",
    "    [\n",
    "        (\"Numeric Pipeline\",numeric_features_pipeline, numeric_features),\n",
    "        (\"Categorical Features Pipeline\",categorical_features_pipeline, categoric_features),\n",
    "        (\"Outliers Features Pipeline\", outliers_features_pipeline, outlier_feature)\n",
    "]\n",
    ")"
   ]
  },
  {
   "cell_type": "code",
   "execution_count": 31,
   "id": "3dca17bb-792e-4bd2-8888-4a3165a91db1",
   "metadata": {},
   "outputs": [],
   "source": [
    "X_train = preprocessor.fit_transform(X_train)\n",
    "X_test = preprocessor.transform(X_test)"
   ]
  },
  {
   "cell_type": "markdown",
   "id": "d51f8419-abbe-4a55-9428-783941a8e268",
   "metadata": {},
   "source": [
    "### Model Selection"
   ]
  },
  {
   "cell_type": "code",
   "execution_count": 32,
   "id": "f6e57243-5143-42d3-8905-46898e73bee7",
   "metadata": {},
   "outputs": [],
   "source": [
    "# functions which takes true and predicted values to calculate metrics\n",
    "def evaluate_reg(true, predicted):\n",
    "    mae = mean_absolute_error(true, predicted)\n",
    "    mse = mean_squared_error(true, predicted)\n",
    "    rmse = np.sqrt(mean_squared_error(true, predicted))\n",
    "    r2_square = r2_score(true, predicted)\n",
    "    return mae, rmse, r2_square"
   ]
  },
  {
   "cell_type": "code",
   "execution_count": 33,
   "id": "f9612733-5fd7-4f96-9291-b7b4592adb11",
   "metadata": {},
   "outputs": [],
   "source": [
    "# function which can evaluate models and return a report \n",
    "def evaluate_models(X_train, X_test, y_train, y_test, models):\n",
    "    '''\n",
    "    This function takes in X and y and models dictionary as input\n",
    "    It splits the data into Train Test split\n",
    "    Iterates through the given model dictionary and evaluates the metrics\n",
    "    Returns: Dataframe which contains report of all models metrics with cost\n",
    "    '''    \n",
    "    models_list = []\n",
    "    r2_list = []\n",
    "    \n",
    "    for i in range(len(list(models))):\n",
    "        model = list(models.values())[i]\n",
    "        model.fit(X_train, y_train) # Train model\n",
    "\n",
    "        # Make predictions\n",
    "        y_train_pred = model.predict(X_train)\n",
    "        y_test_pred = model.predict(X_test)\n",
    "\n",
    "        # Evaluate Train and Test dataset\n",
    "        model_train_mae , model_train_rmse, model_train_r2 = evaluate_reg(y_train, y_train_pred)\n",
    "\n",
    "        model_test_mae , model_test_rmse, model_test_r2 = evaluate_reg(y_test, y_test_pred)\n",
    "\n",
    "\n",
    "        print(list(models.keys())[i])\n",
    "        models_list.append(list(models.keys())[i])\n",
    "\n",
    "        print('Model performance for Training set')\n",
    "        print(\"- Root Mean Squared Error: {:.4f}\".format(model_train_rmse))\n",
    "        print(\"- Mean Absolute Error: {:.4f}\".format(model_train_mae))\n",
    "        print(\"- R2 Score: {:.4f}\".format(model_train_r2))\n",
    "\n",
    "        print('----------------------------------')\n",
    "\n",
    "        print('Model performance for Test set')\n",
    "        print(\"- Root Mean Squared Error: {:.4f}\".format(model_test_rmse))\n",
    "        print(\"- Mean Absolute Error: {:.4f}\".format(model_test_mae))\n",
    "        print(\"- R2 Score: {:.4f}\".format(model_test_r2))\n",
    "        r2_list.append(model_test_r2)\n",
    "\n",
    "        print('='*35)\n",
    "        print('\\n')\n",
    "        \n",
    "    report=pd.DataFrame(list(zip(models_list, r2_list)), columns=['Model Name', 'r2_score']).sort_values(by=['r2_score'], ascending=False)\n",
    "        \n",
    "    return report"
   ]
  },
  {
   "cell_type": "code",
   "execution_count": 36,
   "id": "c4440c91-b91c-4a04-bd9b-e0dcd304b68f",
   "metadata": {},
   "outputs": [],
   "source": [
    "# Initialize models required for model\n",
    "models = {\n",
    "    \"Linear Regression\": LinearRegression(),\n",
    "    \"K-Neighbors Regressor\": KNeighborsRegressor(),\n",
    "    \"Decision Tree\": DecisionTreeRegressor(),\n",
    "    \"Random Forest Regressor\": RandomForestRegressor(),\n",
    "    \"XGBRegressor\": XGBRegressor(), \n",
    "    \"CatBoosting Regressor\": CatBoostRegressor(verbose=False, max_depth=5),\n",
    "    \"AdaBoost Regressor\": AdaBoostRegressor(), \n",
    "    \"SVR\": SVR()\n",
    "}"
   ]
  },
  {
   "cell_type": "code",
   "execution_count": 37,
   "id": "58b9b19c-53f0-4747-85b1-793ad93a42b9",
   "metadata": {},
   "outputs": [
    {
     "name": "stdout",
     "output_type": "stream",
     "text": [
      "Linear Regression\n",
      "Model performance for Training set\n",
      "- Root Mean Squared Error: 0.7361\n",
      "- Mean Absolute Error: 0.4989\n",
      "- R2 Score: 0.8012\n",
      "----------------------------------\n",
      "Model performance for Test set\n",
      "- Root Mean Squared Error: 0.6960\n",
      "- Mean Absolute Error: 0.4847\n",
      "- R2 Score: 0.8221\n",
      "===================================\n",
      "\n",
      "\n",
      "K-Neighbors Regressor\n",
      "Model performance for Training set\n",
      "- Root Mean Squared Error: 0.5675\n",
      "- Mean Absolute Error: 0.3614\n",
      "- R2 Score: 0.8818\n",
      "----------------------------------\n",
      "Model performance for Test set\n",
      "- Root Mean Squared Error: 0.6588\n",
      "- Mean Absolute Error: 0.4263\n",
      "- R2 Score: 0.8406\n",
      "===================================\n",
      "\n",
      "\n",
      "Decision Tree\n",
      "Model performance for Training set\n",
      "- Root Mean Squared Error: 0.0000\n",
      "- Mean Absolute Error: 0.0000\n",
      "- R2 Score: 1.0000\n",
      "----------------------------------\n",
      "Model performance for Test set\n",
      "- Root Mean Squared Error: 0.5173\n",
      "- Mean Absolute Error: 0.3224\n",
      "- R2 Score: 0.9017\n",
      "===================================\n",
      "\n",
      "\n",
      "Random Forest Regressor\n",
      "Model performance for Training set\n",
      "- Root Mean Squared Error: 0.1229\n",
      "- Mean Absolute Error: 0.0784\n",
      "- R2 Score: 0.9945\n",
      "----------------------------------\n",
      "Model performance for Test set\n",
      "- Root Mean Squared Error: 0.3453\n",
      "- Mean Absolute Error: 0.2029\n",
      "- R2 Score: 0.9562\n",
      "===================================\n",
      "\n",
      "\n",
      "XGBRegressor\n",
      "Model performance for Training set\n",
      "- Root Mean Squared Error: 0.0997\n",
      "- Mean Absolute Error: 0.0658\n",
      "- R2 Score: 0.9964\n",
      "----------------------------------\n",
      "Model performance for Test set\n",
      "- Root Mean Squared Error: 0.3148\n",
      "- Mean Absolute Error: 0.1846\n",
      "- R2 Score: 0.9636\n",
      "===================================\n",
      "\n",
      "\n",
      "CatBoosting Regressor\n",
      "Model performance for Training set\n",
      "- Root Mean Squared Error: 0.1831\n",
      "- Mean Absolute Error: 0.1178\n",
      "- R2 Score: 0.9877\n",
      "----------------------------------\n",
      "Model performance for Test set\n",
      "- Root Mean Squared Error: 0.2771\n",
      "- Mean Absolute Error: 0.1628\n",
      "- R2 Score: 0.9718\n",
      "===================================\n",
      "\n",
      "\n",
      "AdaBoost Regressor\n",
      "Model performance for Training set\n",
      "- Root Mean Squared Error: 0.6025\n",
      "- Mean Absolute Error: 0.5071\n",
      "- R2 Score: 0.8668\n",
      "----------------------------------\n",
      "Model performance for Test set\n",
      "- Root Mean Squared Error: 0.6450\n",
      "- Mean Absolute Error: 0.5239\n",
      "- R2 Score: 0.8472\n",
      "===================================\n",
      "\n",
      "\n",
      "SVR\n",
      "Model performance for Training set\n",
      "- Root Mean Squared Error: 0.4694\n",
      "- Mean Absolute Error: 0.2297\n",
      "- R2 Score: 0.9192\n",
      "----------------------------------\n",
      "Model performance for Test set\n",
      "- Root Mean Squared Error: 0.4866\n",
      "- Mean Absolute Error: 0.2585\n",
      "- R2 Score: 0.9130\n",
      "===================================\n",
      "\n",
      "\n"
     ]
    }
   ],
   "source": [
    "base_report = evaluate_models(X_train, X_test, y_train, y_test, models)"
   ]
  },
  {
   "cell_type": "code",
   "execution_count": 38,
   "id": "2a7dc40a-37b4-4707-ab99-5af2b3f7e784",
   "metadata": {},
   "outputs": [
    {
     "data": {
      "text/html": [
       "<div>\n",
       "<style scoped>\n",
       "    .dataframe tbody tr th:only-of-type {\n",
       "        vertical-align: middle;\n",
       "    }\n",
       "\n",
       "    .dataframe tbody tr th {\n",
       "        vertical-align: top;\n",
       "    }\n",
       "\n",
       "    .dataframe thead th {\n",
       "        text-align: right;\n",
       "    }\n",
       "</style>\n",
       "<table border=\"1\" class=\"dataframe\">\n",
       "  <thead>\n",
       "    <tr style=\"text-align: right;\">\n",
       "      <th></th>\n",
       "      <th>Model Name</th>\n",
       "      <th>r2_score</th>\n",
       "    </tr>\n",
       "  </thead>\n",
       "  <tbody>\n",
       "    <tr>\n",
       "      <th>5</th>\n",
       "      <td>CatBoosting Regressor</td>\n",
       "      <td>0.971792</td>\n",
       "    </tr>\n",
       "    <tr>\n",
       "      <th>4</th>\n",
       "      <td>XGBRegressor</td>\n",
       "      <td>0.963607</td>\n",
       "    </tr>\n",
       "    <tr>\n",
       "      <th>3</th>\n",
       "      <td>Random Forest Regressor</td>\n",
       "      <td>0.956200</td>\n",
       "    </tr>\n",
       "    <tr>\n",
       "      <th>7</th>\n",
       "      <td>SVR</td>\n",
       "      <td>0.913033</td>\n",
       "    </tr>\n",
       "    <tr>\n",
       "      <th>2</th>\n",
       "      <td>Decision Tree</td>\n",
       "      <td>0.901716</td>\n",
       "    </tr>\n",
       "    <tr>\n",
       "      <th>6</th>\n",
       "      <td>AdaBoost Regressor</td>\n",
       "      <td>0.847181</td>\n",
       "    </tr>\n",
       "    <tr>\n",
       "      <th>1</th>\n",
       "      <td>K-Neighbors Regressor</td>\n",
       "      <td>0.840555</td>\n",
       "    </tr>\n",
       "    <tr>\n",
       "      <th>0</th>\n",
       "      <td>Linear Regression</td>\n",
       "      <td>0.822055</td>\n",
       "    </tr>\n",
       "  </tbody>\n",
       "</table>\n",
       "</div>"
      ],
      "text/plain": [
       "                Model Name  r2_score\n",
       "5    CatBoosting Regressor  0.971792\n",
       "4             XGBRegressor  0.963607\n",
       "3  Random Forest Regressor  0.956200\n",
       "7                      SVR  0.913033\n",
       "2            Decision Tree  0.901716\n",
       "6       AdaBoost Regressor  0.847181\n",
       "1    K-Neighbors Regressor  0.840555\n",
       "0        Linear Regression  0.822055"
      ]
     },
     "execution_count": 38,
     "metadata": {},
     "output_type": "execute_result"
    }
   ],
   "source": [
    "base_report"
   ]
  },
  {
   "cell_type": "markdown",
   "id": "c2b9c766-abc8-4529-a462-cd19893b880b",
   "metadata": {},
   "source": [
    "### Hyperparameter Tuning"
   ]
  },
  {
   "cell_type": "code",
   "execution_count": 39,
   "id": "9c57238c-a2f9-421f-9885-411757956680",
   "metadata": {},
   "outputs": [],
   "source": [
    "#Initialize few parameter for Hyperparamter tuning\n",
    "rf_params = {\"max_depth\": [5, 8, 15, None, 10],\n",
    "             \"max_features\": [5, 7, \"auto\", 8],\n",
    "             \"min_samples_split\": [2, 8, 15, 20],\n",
    "             \"n_estimators\": [100, 200, 500, 1000]}\n",
    "\n",
    "xgboost_params = {\"learning_rate\": [0.1, 0.01],\n",
    "                  \"max_depth\": [5, 8, 12, 20, 30],\n",
    "                  \"n_estimators\": [100, 200, 300],\n",
    "                  \"colsample_bytree\": [0.5, 0.8, 1, 0.3, 0.4]}\n",
    "\n",
    "cat_params = {\"learning_rate\": [0.1, 0.01, 0.6, 0.5],\n",
    "              \"max_depth\": [4, 5, 6, 8, 12]}"
   ]
  },
  {
   "cell_type": "code",
   "execution_count": 40,
   "id": "46a46c45-3763-4488-aee2-bf0b0b6da09d",
   "metadata": {},
   "outputs": [],
   "source": [
    "# Models list for Hyperparameter tuning\n",
    "randomcv_models = [(\"RF\", RandomForestRegressor(), rf_params),\n",
    "                   ('XGBoost', XGBRegressor(), xgboost_params),\n",
    "                   ('CatBoost', CatBoostRegressor(verbose=False), cat_params)\n",
    "                   ]"
   ]
  },
  {
   "cell_type": "code",
   "execution_count": 42,
   "id": "07c4cded-6602-4439-8a59-76984553fc24",
   "metadata": {},
   "outputs": [
    {
     "name": "stdout",
     "output_type": "stream",
     "text": [
      "Fitting 3 folds for each of 100 candidates, totalling 300 fits\n",
      "Fitting 3 folds for each of 100 candidates, totalling 300 fits\n",
      "Fitting 3 folds for each of 20 candidates, totalling 60 fits\n",
      "---------------- Best Params for RF -------------------\n",
      "{'n_estimators': 200, 'min_samples_split': 2, 'max_features': 8, 'max_depth': None}\n",
      "---------------- Best Params for XGBoost -------------------\n",
      "{'n_estimators': 300, 'max_depth': 5, 'learning_rate': 0.1, 'colsample_bytree': 0.8}\n",
      "---------------- Best Params for CatBoost -------------------\n",
      "{'max_depth': 5, 'learning_rate': 0.1}\n"
     ]
    }
   ],
   "source": [
    "from sklearn.model_selection import RandomizedSearchCV\n",
    "\n",
    "model_param = {}\n",
    "for name, model, params in randomcv_models:\n",
    "    random = RandomizedSearchCV(estimator=model,\n",
    "                                   param_distributions=params,\n",
    "                                   n_iter=100,\n",
    "                                   cv=3,\n",
    "                                   verbose=2,\n",
    "                                   n_jobs=-1)\n",
    "    random.fit(X_train, y_train)\n",
    "    model_param[name] = random.best_params_\n",
    "\n",
    "for model_name in model_param:\n",
    "    print(f\"---------------- Best Params for {model_name} -------------------\")\n",
    "    print(model_param[model_name])"
   ]
  },
  {
   "cell_type": "code",
   "execution_count": 43,
   "id": "79cd3e6f-88d8-416a-b03f-88ae7d2a03dd",
   "metadata": {},
   "outputs": [],
   "source": [
    "# reInitialize models with best parameters\n",
    "models = {\n",
    "    \"Random Forest Regressor\": RandomForestRegressor(**model_param['RF'], n_jobs=-1),\n",
    "    \"XGBRegressor\": XGBRegressor(**model_param['XGBoost'], n_jobs=-1), \n",
    "     \"CatBoosting Regressor\": CatBoostRegressor(**model_param['CatBoost'],verbose=False)\n",
    "}"
   ]
  },
  {
   "cell_type": "code",
   "execution_count": 44,
   "id": "791ff703-d440-493d-853c-481f61503180",
   "metadata": {},
   "outputs": [
    {
     "name": "stdout",
     "output_type": "stream",
     "text": [
      "Random Forest Regressor\n",
      "Model performance for Training set\n",
      "- Root Mean Squared Error: 0.1445\n",
      "- Mean Absolute Error: 0.0886\n",
      "- R2 Score: 0.9923\n",
      "----------------------------------\n",
      "Model performance for Test set\n",
      "- Root Mean Squared Error: 0.3627\n",
      "- Mean Absolute Error: 0.2256\n",
      "- R2 Score: 0.9517\n",
      "===================================\n",
      "\n",
      "\n",
      "XGBRegressor\n",
      "Model performance for Training set\n",
      "- Root Mean Squared Error: 0.1412\n",
      "- Mean Absolute Error: 0.0902\n",
      "- R2 Score: 0.9927\n",
      "----------------------------------\n",
      "Model performance for Test set\n",
      "- Root Mean Squared Error: 0.2946\n",
      "- Mean Absolute Error: 0.1727\n",
      "- R2 Score: 0.9681\n",
      "===================================\n",
      "\n",
      "\n",
      "CatBoosting Regressor\n",
      "Model performance for Training set\n",
      "- Root Mean Squared Error: 0.1461\n",
      "- Mean Absolute Error: 0.0956\n",
      "- R2 Score: 0.9922\n",
      "----------------------------------\n",
      "Model performance for Test set\n",
      "- Root Mean Squared Error: 0.2789\n",
      "- Mean Absolute Error: 0.1609\n",
      "- R2 Score: 0.9714\n",
      "===================================\n",
      "\n",
      "\n"
     ]
    }
   ],
   "source": [
    "retrained_report = evaluate_models(X_train, X_test, y_train, y_test, models)"
   ]
  },
  {
   "cell_type": "code",
   "execution_count": 45,
   "id": "1d9b1aab-2455-430e-95e9-bcf327b338fa",
   "metadata": {},
   "outputs": [
    {
     "data": {
      "text/html": [
       "<div>\n",
       "<style scoped>\n",
       "    .dataframe tbody tr th:only-of-type {\n",
       "        vertical-align: middle;\n",
       "    }\n",
       "\n",
       "    .dataframe tbody tr th {\n",
       "        vertical-align: top;\n",
       "    }\n",
       "\n",
       "    .dataframe thead th {\n",
       "        text-align: right;\n",
       "    }\n",
       "</style>\n",
       "<table border=\"1\" class=\"dataframe\">\n",
       "  <thead>\n",
       "    <tr style=\"text-align: right;\">\n",
       "      <th></th>\n",
       "      <th>Model Name</th>\n",
       "      <th>r2_score</th>\n",
       "    </tr>\n",
       "  </thead>\n",
       "  <tbody>\n",
       "    <tr>\n",
       "      <th>2</th>\n",
       "      <td>CatBoosting Regressor</td>\n",
       "      <td>0.971419</td>\n",
       "    </tr>\n",
       "    <tr>\n",
       "      <th>1</th>\n",
       "      <td>XGBRegressor</td>\n",
       "      <td>0.968127</td>\n",
       "    </tr>\n",
       "    <tr>\n",
       "      <th>0</th>\n",
       "      <td>Random Forest Regressor</td>\n",
       "      <td>0.951689</td>\n",
       "    </tr>\n",
       "  </tbody>\n",
       "</table>\n",
       "</div>"
      ],
      "text/plain": [
       "                Model Name  r2_score\n",
       "2    CatBoosting Regressor  0.971419\n",
       "1             XGBRegressor  0.968127\n",
       "0  Random Forest Regressor  0.951689"
      ]
     },
     "execution_count": 45,
     "metadata": {},
     "output_type": "execute_result"
    }
   ],
   "source": [
    "retrained_report"
   ]
  },
  {
   "cell_type": "code",
   "execution_count": null,
   "id": "9ecfa25d-8e8c-4eaa-b694-a471ba1f96cd",
   "metadata": {},
   "outputs": [],
   "source": []
  }
 ],
 "metadata": {
  "kernelspec": {
   "display_name": "Python 3 (ipykernel)",
   "language": "python",
   "name": "python3"
  },
  "language_info": {
   "codemirror_mode": {
    "name": "ipython",
    "version": 3
   },
   "file_extension": ".py",
   "mimetype": "text/x-python",
   "name": "python",
   "nbconvert_exporter": "python",
   "pygments_lexer": "ipython3",
   "version": "3.8.10"
  }
 },
 "nbformat": 4,
 "nbformat_minor": 5
}
